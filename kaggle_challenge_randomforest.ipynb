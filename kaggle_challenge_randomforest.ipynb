{
 "cells": [
  {
   "cell_type": "code",
   "execution_count": null,
   "metadata": {},
   "outputs": [],
   "source": []
  },
  {
   "cell_type": "markdown",
   "metadata": {},
   "source": [
    "Este código carga el dataset completo, lo preprocesa aplicando las mismas transformaciones que se realizaron anteriormente, entrena el modelo optimizado de Random Forest con todos los datos y guarda el modelo entrenado en un archivo para su posterior uso."
   ]
  },
  {
   "cell_type": "code",
   "execution_count": 3,
   "metadata": {},
   "outputs": [
    {
     "data": {
      "text/plain": [
       "['optimized_random_forest_model.pkl']"
      ]
     },
     "execution_count": 3,
     "metadata": {},
     "output_type": "execute_result"
    }
   ],
   "source": [
    "import pandas as pd\n",
    "from sklearn.ensemble import RandomForestRegressor\n",
    "import joblib\n",
    "\n",
    "# Cargar el dataset completo\n",
    "train_data_full = pd.read_csv('desafio-de-prediccion-de-precios-de-portatiles/train.csv')\n",
    "\n",
    "# Función de preprocesamiento\n",
    "def preprocess_data(data):\n",
    "    data = data.copy()\n",
    "    \n",
    "    # Convertir 'Ram' y 'Weight' a valores numéricos\n",
    "    data['Ram'] = data['Ram'].str.replace('GB', '').astype(int)\n",
    "    data['Weight'] = data['Weight'].str.replace('kg', '').astype(float)\n",
    "    \n",
    "    # Crear nuevas características para la resolución de pantalla\n",
    "    resolution = data['ScreenResolution'].str.split('x', n=1, expand=True)\n",
    "    data['X_resolution'] = resolution[0].str.extract(r'(\\d+)').astype(int)\n",
    "    data['Y_resolution'] = resolution[1].astype(int)\n",
    "    \n",
    "    # Extraer velocidad y serie del CPU\n",
    "    data['Cpu_Speed'] = data['Cpu'].str.extract(r'(\\d+\\.\\d+)GHz').astype(float)\n",
    "    data['Cpu_Series'] = data['Cpu'].str.split().str[2:4].str.join(' ')\n",
    "    \n",
    "    # Transformar 'Memory' en múltiples columnas para HDD, SSD, etc.\n",
    "    def extract_memory(memory, mem_type):\n",
    "        if mem_type in memory:\n",
    "            size_str = memory.split()[0].replace('GB', '').replace('TB', '000')\n",
    "            try:\n",
    "                return int(size_str)\n",
    "            except ValueError:\n",
    "                return 0\n",
    "        return 0\n",
    "    \n",
    "    data['HDD'] = data['Memory'].apply(lambda x: extract_memory(x, 'HDD'))\n",
    "    data['SSD'] = data['Memory'].apply(lambda x: extract_memory(x, 'SSD'))\n",
    "    data['Flash_Storage'] = data['Memory'].apply(lambda x: extract_memory(x, 'Flash Storage'))\n",
    "    data['Hybrid'] = data['Memory'].apply(lambda x: extract_memory(x, 'Hybrid'))\n",
    "    \n",
    "    # Crear dummies para 'Cpu_Series'\n",
    "    data = pd.get_dummies(data, columns=['Cpu_Series'], drop_first=True)\n",
    "    \n",
    "    # Seleccionar las características relevantes\n",
    "    features = ['Inches', 'Ram', 'Weight', 'X_resolution', 'Y_resolution', 'Cpu_Speed', 'HDD', 'SSD', 'Flash_Storage', 'Hybrid']\n",
    "    features += [col for col in data.columns if 'Cpu_Series_' in col]\n",
    "    \n",
    "    X = data[features]\n",
    "    y = data['Price_euros']\n",
    "    \n",
    "    return X, y\n",
    "\n",
    "# Preprocesar los datos\n",
    "X_full, y_full = preprocess_data(train_data_full)\n",
    "\n",
    "# Entrenar el modelo de Random Forest optimizado con todos los datos de entrenamiento\n",
    "optimized_rf = RandomForestRegressor(\n",
    "    max_depth=None, \n",
    "    min_samples_leaf=1, \n",
    "    min_samples_split=2, \n",
    "    n_estimators=300,\n",
    "    random_state=42\n",
    ")\n",
    "\n",
    "optimized_rf.fit(X_full, y_full)\n",
    "\n",
    "# Guardar el modelo entrenado\n",
    "joblib.dump(optimized_rf, 'optimized_random_forest_model.pkl')\n",
    "\n"
   ]
  },
  {
   "cell_type": "code",
   "execution_count": null,
   "metadata": {},
   "outputs": [],
   "source": []
  },
  {
   "cell_type": "markdown",
   "metadata": {},
   "source": [
    "Este código hará lo siguiente:\n",
    "\n",
    "Cargará los datos de test.csv.\n",
    "\n",
    "Preprocesará los datos de prueba de la misma manera que los datos de entrenamiento.\n",
    "\n",
    "Asegurará que las columnas del conjunto de datos de prueba coincidan con las del conjunto de datos de entrenamiento.\n",
    "\n",
    "Usará el modelo entrenado para hacer predicciones.\n",
    "\n",
    "Guardará las predicciones en un archivo CSV."
   ]
  },
  {
   "cell_type": "code",
   "execution_count": 4,
   "metadata": {},
   "outputs": [],
   "source": [
    "# Cargar el dataset de test\n",
    "test_data = pd.read_csv('desafio-de-prediccion-de-precios-de-portatiles/test.csv')\n",
    "\n",
    "# Función de preprocesamiento (idéntica a la usada anteriormente)\n",
    "def preprocess_data(data):\n",
    "    data = data.copy()\n",
    "    \n",
    "    # Convertir 'Ram' y 'Weight' a valores numéricos\n",
    "    data['Ram'] = data['Ram'].str.replace('GB', '').astype(int)\n",
    "    data['Weight'] = data['Weight'].str.replace('kg', '').astype(float)\n",
    "    \n",
    "    # Crear nuevas características para la resolución de pantalla\n",
    "    resolution = data['ScreenResolution'].str.split('x', n=1, expand=True)\n",
    "    data['X_resolution'] = resolution[0].str.extract(r'(\\d+)').astype(int)\n",
    "    data['Y_resolution'] = resolution[1].astype(int)\n",
    "    \n",
    "    # Extraer velocidad y serie del CPU\n",
    "    data['Cpu_Speed'] = data['Cpu'].str.extract(r'(\\d+\\.\\d+)GHz').astype(float)\n",
    "    data['Cpu_Series'] = data['Cpu'].str.split().str[2:4].str.join(' ')\n",
    "    \n",
    "    # Transformar 'Memory' en múltiples columnas para HDD, SSD, etc.\n",
    "    def extract_memory(memory, mem_type):\n",
    "        if mem_type in memory:\n",
    "            size_str = memory.split()[0].replace('GB', '').replace('TB', '000')\n",
    "            try:\n",
    "                return int(size_str)\n",
    "            except ValueError:\n",
    "                return 0\n",
    "        return 0\n",
    "    \n",
    "    data['HDD'] = data['Memory'].apply(lambda x: extract_memory(x, 'HDD'))\n",
    "    data['SSD'] = data['Memory'].apply(lambda x: extract_memory(x, 'SSD'))\n",
    "    data['Flash_Storage'] = data['Memory'].apply(lambda x: extract_memory(x, 'Flash Storage'))\n",
    "    data['Hybrid'] = data['Memory'].apply(lambda x: extract_memory(x, 'Hybrid'))\n",
    "    \n",
    "    # Crear dummies para 'Cpu_Series'\n",
    "    data = pd.get_dummies(data, columns=['Cpu_Series'], drop_first=True)\n",
    "    \n",
    "    # Seleccionar las características relevantes\n",
    "    features = ['Inches', 'Ram', 'Weight', 'X_resolution', 'Y_resolution', 'Cpu_Speed', 'HDD', 'SSD', 'Flash_Storage', 'Hybrid']\n",
    "    features += [col for col in data.columns if 'Cpu_Series_' in col]\n",
    "    \n",
    "    X = data[features]\n",
    "    \n",
    "    return X\n",
    "\n",
    "# Preprocesar los datos de test\n",
    "X_test_full = preprocess_data(test_data)\n",
    "\n",
    "# Cargar el modelo entrenado\n",
    "optimized_rf = joblib.load('optimized_random_forest_model.pkl')\n",
    "\n",
    "# Asegurarse de que las columnas de X_test_full coincidan con las de X_full\n",
    "missing_cols = set(X_full.columns) - set(X_test_full.columns)\n",
    "for col in missing_cols:\n",
    "    X_test_full[col] = 0\n",
    "\n",
    "X_test_full = X_test_full[X_full.columns]\n",
    "\n",
    "# Hacer predicciones\n",
    "predictions = optimized_rf.predict(X_test_full)\n",
    "\n",
    "# Guardar las predicciones en un archivo CSV\n",
    "test_data['Price_euros'] = predictions\n",
    "test_data[['id', 'Price_euros']].to_csv('predictions.csv', index=False)\n",
    "\n"
   ]
  },
  {
   "cell_type": "code",
   "execution_count": 6,
   "metadata": {},
   "outputs": [
    {
     "data": {
      "text/html": [
       "<div>\n",
       "<style scoped>\n",
       "    .dataframe tbody tr th:only-of-type {\n",
       "        vertical-align: middle;\n",
       "    }\n",
       "\n",
       "    .dataframe tbody tr th {\n",
       "        vertical-align: top;\n",
       "    }\n",
       "\n",
       "    .dataframe thead th {\n",
       "        text-align: right;\n",
       "    }\n",
       "</style>\n",
       "<table border=\"1\" class=\"dataframe\">\n",
       "  <thead>\n",
       "    <tr style=\"text-align: right;\">\n",
       "      <th></th>\n",
       "      <th>id</th>\n",
       "      <th>Price_euros</th>\n",
       "    </tr>\n",
       "  </thead>\n",
       "  <tbody>\n",
       "    <tr>\n",
       "      <th>0</th>\n",
       "      <td>181</td>\n",
       "      <td>2207.372478</td>\n",
       "    </tr>\n",
       "    <tr>\n",
       "      <th>1</th>\n",
       "      <td>708</td>\n",
       "      <td>984.316352</td>\n",
       "    </tr>\n",
       "    <tr>\n",
       "      <th>2</th>\n",
       "      <td>862</td>\n",
       "      <td>472.251638</td>\n",
       "    </tr>\n",
       "    <tr>\n",
       "      <th>3</th>\n",
       "      <td>1064</td>\n",
       "      <td>1378.962444</td>\n",
       "    </tr>\n",
       "    <tr>\n",
       "      <th>4</th>\n",
       "      <td>702</td>\n",
       "      <td>1445.930537</td>\n",
       "    </tr>\n",
       "  </tbody>\n",
       "</table>\n",
       "</div>"
      ],
      "text/plain": [
       "     id  Price_euros\n",
       "0   181  2207.372478\n",
       "1   708   984.316352\n",
       "2   862   472.251638\n",
       "3  1064  1378.962444\n",
       "4   702  1445.930537"
      ]
     },
     "execution_count": 6,
     "metadata": {},
     "output_type": "execute_result"
    }
   ],
   "source": [
    "predictions=pd.read_csv('desafio-de-prediccion-de-precios-de-portatiles/predictions.csv')\n",
    "predictions.head()"
   ]
  },
  {
   "cell_type": "code",
   "execution_count": 7,
   "metadata": {},
   "outputs": [
    {
     "name": "stdout",
     "output_type": "stream",
     "text": [
      "<class 'pandas.core.frame.DataFrame'>\n",
      "RangeIndex: 391 entries, 0 to 390\n",
      "Data columns (total 2 columns):\n",
      " #   Column       Non-Null Count  Dtype  \n",
      "---  ------       --------------  -----  \n",
      " 0   id           391 non-null    int64  \n",
      " 1   Price_euros  391 non-null    float64\n",
      "dtypes: float64(1), int64(1)\n",
      "memory usage: 6.2 KB\n"
     ]
    }
   ],
   "source": [
    "predictions.info()"
   ]
  },
  {
   "cell_type": "code",
   "execution_count": 8,
   "metadata": {},
   "outputs": [],
   "source": [
    "def chequeator(df_to_submit):\n",
    "    \"\"\"\n",
    "    Esta función se asegura de que tu submission tenga la forma requerida por Kaggle.\n",
    "    \n",
    "    Si es así, se guardará el dataframe en un `csv` y estará listo para subir a Kaggle.\n",
    "    \n",
    "    Si no, LEE EL MENSAJE Y HAZLE CASO.\n",
    "    \n",
    "    Si aún no:\n",
    "    - apaga tu ordenador, \n",
    "    - date una vuelta, \n",
    "    - enciendelo otra vez, \n",
    "    - abre este notebook y \n",
    "    - leelo todo de nuevo. \n",
    "    Todos nos merecemos una segunda oportunidad. También tú.\n",
    "    \"\"\"\n",
    "    if df_to_submit.shape == sample.shape:\n",
    "        if df_to_submit.columns.all() == sample.columns.all():\n",
    "            if df_to_submit.id.all() == sample.id.all():\n",
    "                print(\"You're ready to submit!\")\n",
    "                submission.to_csv(\"submission.csv\", index = False) #muy importante el index = False\n",
    "                urllib.request.urlretrieve(\"https://i.kym-cdn.com/photos/images/facebook/000/747/556/27a.jpg\", \"gfg.png\")     \n",
    "                img = Image.open(\"gfg.png\")\n",
    "                img.show()   \n",
    "            else:\n",
    "                print(\"Check the ids and try again\")\n",
    "        else:\n",
    "            print(\"Check the names of the columns and try again\")\n",
    "    else:\n",
    "        print(\"Check the number of rows and/or columns and try again\")\n",
    "        print(\"\")\n"
   ]
  },
  {
   "cell_type": "code",
   "execution_count": 10,
   "metadata": {},
   "outputs": [
    {
     "data": {
      "text/html": [
       "<div>\n",
       "<style scoped>\n",
       "    .dataframe tbody tr th:only-of-type {\n",
       "        vertical-align: middle;\n",
       "    }\n",
       "\n",
       "    .dataframe tbody tr th {\n",
       "        vertical-align: top;\n",
       "    }\n",
       "\n",
       "    .dataframe thead th {\n",
       "        text-align: right;\n",
       "    }\n",
       "</style>\n",
       "<table border=\"1\" class=\"dataframe\">\n",
       "  <thead>\n",
       "    <tr style=\"text-align: right;\">\n",
       "      <th></th>\n",
       "      <th>id</th>\n",
       "      <th>Price_euros</th>\n",
       "    </tr>\n",
       "  </thead>\n",
       "  <tbody>\n",
       "    <tr>\n",
       "      <th>0</th>\n",
       "      <td>1014</td>\n",
       "      <td>752.0</td>\n",
       "    </tr>\n",
       "    <tr>\n",
       "      <th>1</th>\n",
       "      <td>845</td>\n",
       "      <td>499.0</td>\n",
       "    </tr>\n",
       "    <tr>\n",
       "      <th>2</th>\n",
       "      <td>1151</td>\n",
       "      <td>1747.0</td>\n",
       "    </tr>\n",
       "    <tr>\n",
       "      <th>3</th>\n",
       "      <td>1265</td>\n",
       "      <td>245.0</td>\n",
       "    </tr>\n",
       "    <tr>\n",
       "      <th>4</th>\n",
       "      <td>573</td>\n",
       "      <td>1179.0</td>\n",
       "    </tr>\n",
       "    <tr>\n",
       "      <th>...</th>\n",
       "      <td>...</td>\n",
       "      <td>...</td>\n",
       "    </tr>\n",
       "    <tr>\n",
       "      <th>386</th>\n",
       "      <td>1162</td>\n",
       "      <td>258.0</td>\n",
       "    </tr>\n",
       "    <tr>\n",
       "      <th>387</th>\n",
       "      <td>1286</td>\n",
       "      <td>1085.0</td>\n",
       "    </tr>\n",
       "    <tr>\n",
       "      <th>388</th>\n",
       "      <td>336</td>\n",
       "      <td>298.0</td>\n",
       "    </tr>\n",
       "    <tr>\n",
       "      <th>389</th>\n",
       "      <td>885</td>\n",
       "      <td>1099.0</td>\n",
       "    </tr>\n",
       "    <tr>\n",
       "      <th>390</th>\n",
       "      <td>1246</td>\n",
       "      <td>1339.0</td>\n",
       "    </tr>\n",
       "  </tbody>\n",
       "</table>\n",
       "<p>391 rows × 2 columns</p>\n",
       "</div>"
      ],
      "text/plain": [
       "       id  Price_euros\n",
       "0    1014        752.0\n",
       "1     845        499.0\n",
       "2    1151       1747.0\n",
       "3    1265        245.0\n",
       "4     573       1179.0\n",
       "..    ...          ...\n",
       "386  1162        258.0\n",
       "387  1286       1085.0\n",
       "388   336        298.0\n",
       "389   885       1099.0\n",
       "390  1246       1339.0\n",
       "\n",
       "[391 rows x 2 columns]"
      ]
     },
     "execution_count": 10,
     "metadata": {},
     "output_type": "execute_result"
    }
   ],
   "source": [
    "sample= pd.read_csv(\"desafio-de-prediccion-de-precios-de-portatiles/sample_submission.csv\")\n",
    "sample"
   ]
  },
  {
   "cell_type": "code",
   "execution_count": 12,
   "metadata": {},
   "outputs": [
    {
     "name": "stdout",
     "output_type": "stream",
     "text": [
      "You're ready to submit!\n"
     ]
    },
    {
     "ename": "NameError",
     "evalue": "name 'submission' is not defined",
     "output_type": "error",
     "traceback": [
      "\u001b[1;31m---------------------------------------------------------------------------\u001b[0m",
      "\u001b[1;31mNameError\u001b[0m                                 Traceback (most recent call last)",
      "Cell \u001b[1;32mIn[12], line 1\u001b[0m\n\u001b[1;32m----> 1\u001b[0m \u001b[43mchequeator\u001b[49m\u001b[43m(\u001b[49m\u001b[43mpredictions\u001b[49m\u001b[43m)\u001b[49m\n",
      "Cell \u001b[1;32mIn[8], line 21\u001b[0m, in \u001b[0;36mchequeator\u001b[1;34m(df_to_submit)\u001b[0m\n\u001b[0;32m     19\u001b[0m \u001b[38;5;28;01mif\u001b[39;00m df_to_submit\u001b[38;5;241m.\u001b[39mid\u001b[38;5;241m.\u001b[39mall() \u001b[38;5;241m==\u001b[39m sample\u001b[38;5;241m.\u001b[39mid\u001b[38;5;241m.\u001b[39mall():\n\u001b[0;32m     20\u001b[0m     \u001b[38;5;28mprint\u001b[39m(\u001b[38;5;124m\"\u001b[39m\u001b[38;5;124mYou\u001b[39m\u001b[38;5;124m'\u001b[39m\u001b[38;5;124mre ready to submit!\u001b[39m\u001b[38;5;124m\"\u001b[39m)\n\u001b[1;32m---> 21\u001b[0m     \u001b[43msubmission\u001b[49m\u001b[38;5;241m.\u001b[39mto_csv(\u001b[38;5;124m\"\u001b[39m\u001b[38;5;124msubmission.csv\u001b[39m\u001b[38;5;124m\"\u001b[39m, index \u001b[38;5;241m=\u001b[39m \u001b[38;5;28;01mFalse\u001b[39;00m) \u001b[38;5;66;03m#muy importante el index = False\u001b[39;00m\n\u001b[0;32m     22\u001b[0m     urllib\u001b[38;5;241m.\u001b[39mrequest\u001b[38;5;241m.\u001b[39murlretrieve(\u001b[38;5;124m\"\u001b[39m\u001b[38;5;124mhttps://i.kym-cdn.com/photos/images/facebook/000/747/556/27a.jpg\u001b[39m\u001b[38;5;124m\"\u001b[39m, \u001b[38;5;124m\"\u001b[39m\u001b[38;5;124mgfg.png\u001b[39m\u001b[38;5;124m\"\u001b[39m)     \n\u001b[0;32m     23\u001b[0m     img \u001b[38;5;241m=\u001b[39m Image\u001b[38;5;241m.\u001b[39mopen(\u001b[38;5;124m\"\u001b[39m\u001b[38;5;124mgfg.png\u001b[39m\u001b[38;5;124m\"\u001b[39m)\n",
      "\u001b[1;31mNameError\u001b[0m: name 'submission' is not defined"
     ]
    }
   ],
   "source": [
    "chequeator(predictions)"
   ]
  },
  {
   "cell_type": "markdown",
   "metadata": {},
   "source": [
    "El score en la competicion de kaggle es 290,140\n",
    "https://www.kaggle.com/competitions/desafio-de-prediccion-de-precios-de-portatiles/submissions\n"
   ]
  },
  {
   "cell_type": "code",
   "execution_count": null,
   "metadata": {},
   "outputs": [],
   "source": []
  },
  {
   "cell_type": "markdown",
   "metadata": {},
   "source": []
  },
  {
   "cell_type": "code",
   "execution_count": null,
   "metadata": {},
   "outputs": [],
   "source": []
  },
  {
   "cell_type": "code",
   "execution_count": null,
   "metadata": {},
   "outputs": [],
   "source": []
  },
  {
   "cell_type": "code",
   "execution_count": null,
   "metadata": {},
   "outputs": [],
   "source": []
  },
  {
   "cell_type": "code",
   "execution_count": null,
   "metadata": {},
   "outputs": [],
   "source": []
  }
 ],
 "metadata": {
  "kernelspec": {
   "display_name": "Python 3",
   "language": "python",
   "name": "python3"
  },
  "language_info": {
   "codemirror_mode": {
    "name": "ipython",
    "version": 3
   },
   "file_extension": ".py",
   "mimetype": "text/x-python",
   "name": "python",
   "nbconvert_exporter": "python",
   "pygments_lexer": "ipython3",
   "version": "3.12.1"
  }
 },
 "nbformat": 4,
 "nbformat_minor": 2
}
